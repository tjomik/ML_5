{
 "cells": [
  {
   "cell_type": "code",
   "execution_count": 68,
   "metadata": {},
   "outputs": [],
   "source": [
    "import pandas as pd\n",
    "import numpy as np\n",
    "import matplotlib.pyplot as plt\n",
    "%matplotlib inline\n",
    "import seaborn as sns\n",
    "from sklearn.linear_model import LogisticRegression\n",
    "from sklearn.metrics import accuracy_score\n",
    "from sklearn.model_selection import train_test_split"
   ]
  },
  {
   "cell_type": "code",
   "execution_count": 69,
   "metadata": {},
   "outputs": [],
   "source": [
    "data_train = pd.read_csv('train.csv')"
   ]
  },
  {
   "cell_type": "code",
   "execution_count": 70,
   "metadata": {},
   "outputs": [],
   "source": [
    "x = data_train.columns.drop('label')\n",
    "y = 'label'"
   ]
  },
  {
   "cell_type": "code",
   "execution_count": 71,
   "metadata": {},
   "outputs": [],
   "source": [
    "data_train[x] = data_train[x].applymap(lambda x: x/255)"
   ]
  },
  {
   "cell_type": "code",
   "execution_count": 72,
   "metadata": {},
   "outputs": [],
   "source": [
    "train, validation = train_test_split(data_train, test_size=0.3 )"
   ]
  },
  {
   "cell_type": "code",
   "execution_count": 73,
   "metadata": {},
   "outputs": [],
   "source": [
    "log_reg = LogisticRegression().fit(train[x], train[y])\n"
   ]
  },
  {
   "cell_type": "code",
   "execution_count": 74,
   "metadata": {},
   "outputs": [],
   "source": [
    "y_train = log_reg.predict(validation[x])\n"
   ]
  },
  {
   "cell_type": "code",
   "execution_count": 75,
   "metadata": {},
   "outputs": [],
   "source": [
    "y_train_acc=accuracy_score(y_train, validation[y])"
   ]
  },
  {
   "cell_type": "code",
   "execution_count": 76,
   "metadata": {},
   "outputs": [
    {
     "data": {
      "text/plain": [
       "0.9118253968253969"
      ]
     },
     "execution_count": 76,
     "metadata": {},
     "output_type": "execute_result"
    }
   ],
   "source": [
    "y_train_acc"
   ]
  },
  {
   "cell_type": "code",
   "execution_count": 77,
   "metadata": {},
   "outputs": [],
   "source": [
    "from keras.layers import Dense\n",
    "from keras.models import Sequential\n",
    "from keras.callbacks import History"
   ]
  },
  {
   "cell_type": "code",
   "execution_count": 78,
   "metadata": {},
   "outputs": [],
   "source": [
    "model=Sequential()"
   ]
  },
  {
   "cell_type": "code",
   "execution_count": 79,
   "metadata": {},
   "outputs": [],
   "source": [
    "model.add(Dense(units=800, activation='relu', input_dim=len(x)))\n",
    "model.add(Dense(units=10, activation='softmax'))"
   ]
  },
  {
   "cell_type": "code",
   "execution_count": 80,
   "metadata": {},
   "outputs": [],
   "source": [
    "model.compile(loss='sparse_categorical_crossentropy', optimizer='sgd', metrics=['accuracy'])"
   ]
  },
  {
   "cell_type": "code",
   "execution_count": 81,
   "metadata": {},
   "outputs": [
    {
     "name": "stdout",
     "output_type": "stream",
     "text": [
      "Epoch 1/50\n",
      "29400/29400 [==============================] - 11s 376us/step - loss: 0.7802 - acc: 0.8211\n",
      "Epoch 2/50\n",
      "29400/29400 [==============================] - 10s 334us/step - loss: 0.3815 - acc: 0.8970\n",
      "Epoch 3/50\n",
      "29400/29400 [==============================] - 10s 340us/step - loss: 0.3213 - acc: 0.9107\n",
      "Epoch 4/50\n",
      "29400/29400 [==============================] - 10s 342us/step - loss: 0.2887 - acc: 0.9195\n",
      "Epoch 5/50\n",
      "29400/29400 [==============================] - 10s 334us/step - loss: 0.2655 - acc: 0.9264\n",
      "Epoch 6/50\n",
      "29400/29400 [==============================] - 10s 342us/step - loss: 0.2468 - acc: 0.9320\n",
      "Epoch 7/50\n",
      "29400/29400 [==============================] - 10s 330us/step - loss: 0.2315 - acc: 0.9361\n",
      "Epoch 8/50\n",
      "29400/29400 [==============================] - 9s 308us/step - loss: 0.2182 - acc: 0.9395\n",
      "Epoch 9/50\n",
      "29400/29400 [==============================] - 9s 314us/step - loss: 0.2064 - acc: 0.9434\n",
      "Epoch 10/50\n",
      "29400/29400 [==============================] - 9s 307us/step - loss: 0.1956 - acc: 0.9469\n",
      "Epoch 11/50\n",
      "29400/29400 [==============================] - 9s 321us/step - loss: 0.1857 - acc: 0.9490\n",
      "Epoch 12/50\n",
      "29400/29400 [==============================] - 9s 319us/step - loss: 0.1771 - acc: 0.9512\n",
      "Epoch 13/50\n",
      "29400/29400 [==============================] - 10s 340us/step - loss: 0.1690 - acc: 0.9534\n",
      "Epoch 14/50\n",
      "29400/29400 [==============================] - 11s 371us/step - loss: 0.1617 - acc: 0.9562\n",
      "Epoch 15/50\n",
      "29400/29400 [==============================] - 10s 324us/step - loss: 0.1545 - acc: 0.9576\n",
      "Epoch 16/50\n",
      "29400/29400 [==============================] - 10s 334us/step - loss: 0.1483 - acc: 0.9592\n",
      "Epoch 17/50\n",
      "29400/29400 [==============================] - 9s 312us/step - loss: 0.1425 - acc: 0.9617\n",
      "Epoch 18/50\n",
      "29400/29400 [==============================] - 9s 308us/step - loss: 0.1372 - acc: 0.9630\n",
      "Epoch 19/50\n",
      "29400/29400 [==============================] - 9s 314us/step - loss: 0.1317 - acc: 0.9651\n",
      "Epoch 20/50\n",
      "29400/29400 [==============================] - 9s 307us/step - loss: 0.1270 - acc: 0.9665\n",
      "Epoch 21/50\n",
      "29400/29400 [==============================] - 9s 313us/step - loss: 0.1221 - acc: 0.9677\n",
      "Epoch 22/50\n",
      "29400/29400 [==============================] - 10s 326us/step - loss: 0.1180 - acc: 0.9693\n",
      "Epoch 23/50\n",
      "29400/29400 [==============================] - 11s 366us/step - loss: 0.1138 - acc: 0.9706\n",
      "Epoch 24/50\n",
      "29400/29400 [==============================] - 10s 332us/step - loss: 0.1099 - acc: 0.9712\n",
      "Epoch 25/50\n",
      "29400/29400 [==============================] - 9s 306us/step - loss: 0.1064 - acc: 0.9722\n",
      "Epoch 26/50\n",
      "29400/29400 [==============================] - 9s 313us/step - loss: 0.1029 - acc: 0.9732\n",
      "Epoch 27/50\n",
      "29400/29400 [==============================] - 9s 305us/step - loss: 0.0997 - acc: 0.9741\n",
      "Epoch 28/50\n",
      "29400/29400 [==============================] - 9s 321us/step - loss: 0.0964 - acc: 0.9746\n",
      "Epoch 29/50\n",
      "29400/29400 [==============================] - 10s 331us/step - loss: 0.0936 - acc: 0.9763\n",
      "Epoch 30/50\n",
      "29400/29400 [==============================] - 10s 332us/step - loss: 0.0906 - acc: 0.9767\n",
      "Epoch 31/50\n",
      "29400/29400 [==============================] - 9s 317us/step - loss: 0.0878 - acc: 0.9779\n",
      "Epoch 32/50\n",
      "29400/29400 [==============================] - 9s 308us/step - loss: 0.0852 - acc: 0.9787\n",
      "Epoch 33/50\n",
      "29400/29400 [==============================] - 9s 315us/step - loss: 0.0830 - acc: 0.9789\n",
      "Epoch 34/50\n",
      "29400/29400 [==============================] - 9s 310us/step - loss: 0.0806 - acc: 0.9800\n",
      "Epoch 35/50\n",
      "29400/29400 [==============================] - 9s 311us/step - loss: 0.0783 - acc: 0.9802\n",
      "Epoch 36/50\n",
      "29400/29400 [==============================] - 9s 312us/step - loss: 0.0760 - acc: 0.9815\n",
      "Epoch 37/50\n",
      "29400/29400 [==============================] - 9s 306us/step - loss: 0.0739 - acc: 0.9818\n",
      "Epoch 38/50\n",
      "29400/29400 [==============================] - 9s 313us/step - loss: 0.0720 - acc: 0.9824\n",
      "Epoch 39/50\n",
      "29400/29400 [==============================] - 10s 348us/step - loss: 0.0701 - acc: 0.9828\n",
      "Epoch 40/50\n",
      "29400/29400 [==============================] - 10s 329us/step - loss: 0.0684 - acc: 0.9831\n",
      "Epoch 41/50\n",
      "29400/29400 [==============================] - 9s 313us/step - loss: 0.0665 - acc: 0.9839\n",
      "Epoch 42/50\n",
      "29400/29400 [==============================] - 9s 306us/step - loss: 0.0648 - acc: 0.9844\n",
      "Epoch 43/50\n",
      "29400/29400 [==============================] - 9s 312us/step - loss: 0.0631 - acc: 0.9852\n",
      "Epoch 44/50\n",
      "29400/29400 [==============================] - 9s 306us/step - loss: 0.0615 - acc: 0.9854\n",
      "Epoch 45/50\n",
      "29400/29400 [==============================] - 9s 313us/step - loss: 0.0600 - acc: 0.9857\n",
      "Epoch 46/50\n",
      "29400/29400 [==============================] - 10s 328us/step - loss: 0.0585 - acc: 0.9862\n",
      "Epoch 47/50\n",
      "29400/29400 [==============================] - 9s 313us/step - loss: 0.0570 - acc: 0.9866\n",
      "Epoch 48/50\n",
      "29400/29400 [==============================] - 9s 316us/step - loss: 0.0557 - acc: 0.9869\n",
      "Epoch 49/50\n",
      "29400/29400 [==============================] - 9s 305us/step - loss: 0.0544 - acc: 0.9874\n",
      "Epoch 50/50\n",
      "29400/29400 [==============================] - 9s 312us/step - loss: 0.0532 - acc: 0.9879\n"
     ]
    },
    {
     "data": {
      "text/plain": [
       "<keras.callbacks.History at 0x5804253c8>"
      ]
     },
     "execution_count": 81,
     "metadata": {},
     "output_type": "execute_result"
    }
   ],
   "source": [
    "histor = History()\n",
    "histor2 = History()\n",
    "model.fit(train[x],train[y],epochs=50, batch_size=30, callbacks=[histor])"
   ]
  },
  {
   "cell_type": "code",
   "execution_count": 82,
   "metadata": {},
   "outputs": [],
   "source": [
    "y_keras=model.predict_classes(validation[x], batch_size=64)"
   ]
  },
  {
   "cell_type": "code",
   "execution_count": 83,
   "metadata": {},
   "outputs": [],
   "source": [
    "y_keras_acc=accuracy_score(y_keras, validation[y])"
   ]
  },
  {
   "cell_type": "code",
   "execution_count": 84,
   "metadata": {},
   "outputs": [
    {
     "data": {
      "text/plain": [
       "0.969920634920635"
      ]
     },
     "execution_count": 84,
     "metadata": {},
     "output_type": "execute_result"
    }
   ],
   "source": [
    "y_keras_acc"
   ]
  },
  {
   "cell_type": "code",
   "execution_count": 85,
   "metadata": {},
   "outputs": [
    {
     "name": "stdout",
     "output_type": "stream",
     "text": [
      "Epoch 1/50\n",
      "29400/29400 [==============================] - 4s 125us/step - loss: 0.7716 - acc: 0.8070\n",
      "Epoch 2/50\n",
      "29400/29400 [==============================] - 4s 125us/step - loss: 0.3684 - acc: 0.8971\n",
      "Epoch 3/50\n",
      "29400/29400 [==============================] - 4s 120us/step - loss: 0.3129 - acc: 0.9119\n",
      "Epoch 4/50\n",
      "29400/29400 [==============================] - 4s 120us/step - loss: 0.2818 - acc: 0.9194\n",
      "Epoch 5/50\n",
      "29400/29400 [==============================] - 4s 121us/step - loss: 0.2591 - acc: 0.9266\n",
      "Epoch 6/50\n",
      "29400/29400 [==============================] - 4s 127us/step - loss: 0.2406 - acc: 0.9320\n",
      "Epoch 7/50\n",
      "29400/29400 [==============================] - 4s 122us/step - loss: 0.2247 - acc: 0.9358\n",
      "Epoch 8/50\n",
      "29400/29400 [==============================] - 4s 120us/step - loss: 0.2116 - acc: 0.9395\n",
      "Epoch 9/50\n",
      "29400/29400 [==============================] - 4s 121us/step - loss: 0.1993 - acc: 0.9434\n",
      "Epoch 10/50\n",
      "29400/29400 [==============================] - 4s 122us/step - loss: 0.1893 - acc: 0.9459\n",
      "Epoch 11/50\n",
      "29400/29400 [==============================] - 4s 127us/step - loss: 0.1800 - acc: 0.9494\n",
      "Epoch 12/50\n",
      "29400/29400 [==============================] - 4s 121us/step - loss: 0.1715 - acc: 0.9521\n",
      "Epoch 13/50\n",
      "29400/29400 [==============================] - 4s 122us/step - loss: 0.1642 - acc: 0.9538\n",
      "Epoch 14/50\n",
      "29400/29400 [==============================] - 4s 122us/step - loss: 0.1570 - acc: 0.9557\n",
      "Epoch 15/50\n",
      "29400/29400 [==============================] - 4s 130us/step - loss: 0.1508 - acc: 0.9578\n",
      "Epoch 16/50\n",
      "29400/29400 [==============================] - 4s 123us/step - loss: 0.1447 - acc: 0.9588\n",
      "Epoch 17/50\n",
      "29400/29400 [==============================] - 4s 123us/step - loss: 0.1392 - acc: 0.9615\n",
      "Epoch 18/50\n",
      "29400/29400 [==============================] - 4s 122us/step - loss: 0.1343 - acc: 0.9631\n",
      "Epoch 19/50\n",
      "29400/29400 [==============================] - 4s 127us/step - loss: 0.1288 - acc: 0.9640\n",
      "Epoch 20/50\n",
      "29400/29400 [==============================] - 4s 123us/step - loss: 0.1253 - acc: 0.9658\n",
      "Epoch 21/50\n",
      "29400/29400 [==============================] - 4s 122us/step - loss: 0.1208 - acc: 0.9663\n",
      "Epoch 22/50\n",
      "29400/29400 [==============================] - 4s 123us/step - loss: 0.1165 - acc: 0.9681\n",
      "Epoch 23/50\n",
      "29400/29400 [==============================] - 4s 124us/step - loss: 0.1133 - acc: 0.9692\n",
      "Epoch 24/50\n",
      "29400/29400 [==============================] - 4s 130us/step - loss: 0.1098 - acc: 0.9704\n",
      "Epoch 25/50\n",
      "29400/29400 [==============================] - 4s 122us/step - loss: 0.1066 - acc: 0.9711\n",
      "Epoch 26/50\n",
      "29400/29400 [==============================] - 4s 125us/step - loss: 0.1036 - acc: 0.9725\n",
      "Epoch 27/50\n",
      "29400/29400 [==============================] - 4s 126us/step - loss: 0.1005 - acc: 0.9728\n",
      "Epoch 28/50\n",
      "29400/29400 [==============================] - 4s 134us/step - loss: 0.0976 - acc: 0.9734\n",
      "Epoch 29/50\n",
      "29400/29400 [==============================] - 4s 133us/step - loss: 0.0948 - acc: 0.9744\n",
      "Epoch 30/50\n",
      "29400/29400 [==============================] - 4s 125us/step - loss: 0.0921 - acc: 0.9746\n",
      "Epoch 31/50\n",
      "29400/29400 [==============================] - 4s 126us/step - loss: 0.0898 - acc: 0.9757\n",
      "Epoch 32/50\n",
      "29400/29400 [==============================] - 4s 133us/step - loss: 0.0873 - acc: 0.9765\n",
      "Epoch 33/50\n",
      "29400/29400 [==============================] - 4s 124us/step - loss: 0.0854 - acc: 0.9774\n",
      "Epoch 34/50\n",
      "29400/29400 [==============================] - 4s 125us/step - loss: 0.0831 - acc: 0.9778\n",
      "Epoch 35/50\n",
      "29400/29400 [==============================] - 4s 125us/step - loss: 0.0808 - acc: 0.9783\n",
      "Epoch 36/50\n",
      "29400/29400 [==============================] - 4s 126us/step - loss: 0.0790 - acc: 0.9783\n",
      "Epoch 37/50\n",
      "29400/29400 [==============================] - 4s 133us/step - loss: 0.0770 - acc: 0.9794\n",
      "Epoch 38/50\n",
      "29400/29400 [==============================] - 4s 125us/step - loss: 0.0751 - acc: 0.9798\n",
      "Epoch 39/50\n",
      "29400/29400 [==============================] - 4s 126us/step - loss: 0.0732 - acc: 0.9806\n",
      "Epoch 40/50\n",
      "29400/29400 [==============================] - 4s 125us/step - loss: 0.0714 - acc: 0.9811\n",
      "Epoch 41/50\n",
      "29400/29400 [==============================] - 4s 133us/step - loss: 0.0697 - acc: 0.9815\n",
      "Epoch 42/50\n",
      "29400/29400 [==============================] - 4s 126us/step - loss: 0.0682 - acc: 0.9822\n",
      "Epoch 43/50\n",
      "29400/29400 [==============================] - 4s 125us/step - loss: 0.0668 - acc: 0.9827\n",
      "Epoch 44/50\n",
      "29400/29400 [==============================] - 4s 132us/step - loss: 0.0649 - acc: 0.9834\n",
      "Epoch 45/50\n",
      "29400/29400 [==============================] - 4s 136us/step - loss: 0.0637 - acc: 0.9835\n",
      "Epoch 46/50\n",
      "29400/29400 [==============================] - 4s 126us/step - loss: 0.0619 - acc: 0.9846\n",
      "Epoch 47/50\n",
      "29400/29400 [==============================] - 4s 127us/step - loss: 0.0606 - acc: 0.9848\n",
      "Epoch 48/50\n",
      "29400/29400 [==============================] - 4s 127us/step - loss: 0.0591 - acc: 0.9849\n",
      "Epoch 49/50\n",
      "29400/29400 [==============================] - 4s 135us/step - loss: 0.0582 - acc: 0.9851\n",
      "Epoch 50/50\n",
      "29400/29400 [==============================] - 4s 131us/step - loss: 0.0567 - acc: 0.9861\n"
     ]
    },
    {
     "data": {
      "text/plain": [
       "0.969920634920635"
      ]
     },
     "execution_count": 85,
     "metadata": {},
     "output_type": "execute_result"
    }
   ],
   "source": [
    "model2 = Sequential()\n",
    "model2.add(Dense(units=64, activation='relu', input_dim=len(x)))\n",
    "model2.add(Dense(units=10, activation='softmax'))\n",
    "model2.compile(loss='sparse_categorical_crossentropy', optimizer='sgd', metrics=['accuracy'])\n",
    "model2.fit(train[x],train[y],epochs=50, batch_size=20, callbacks=[histor2])\n",
    "y_keras2=model2.predict_classes(validation[x], batch_size=64)\n",
    "y_keras_acc2=accuracy_score(y_keras2, validation[y])\n",
    "y_keras_acc2"
   ]
  },
  {
   "cell_type": "code",
   "execution_count": 86,
   "metadata": {},
   "outputs": [
    {
     "data": {
      "text/plain": [
       "0.9627777777777777"
      ]
     },
     "execution_count": 86,
     "metadata": {},
     "output_type": "execute_result"
    }
   ],
   "source": [
    "y_keras_acc2=accuracy_score(y_keras2, validation[y])\n",
    "y_keras_acc2"
   ]
  },
  {
   "cell_type": "code",
   "execution_count": 87,
   "metadata": {},
   "outputs": [],
   "source": [
    "bbb=pd.Series(list(range(1, 28001)))"
   ]
  },
  {
   "cell_type": "code",
   "execution_count": 88,
   "metadata": {},
   "outputs": [],
   "source": [
    "data_test = pd.read_csv('test.csv')\n",
    "result = model.predict_classes(data_test[x])\n",
    "aaa = pd.DataFrame(bbb)\n",
    "\n"
   ]
  },
  {
   "cell_type": "code",
   "execution_count": 89,
   "metadata": {},
   "outputs": [],
   "source": [
    "aaa['Label']=result"
   ]
  },
  {
   "cell_type": "code",
   "execution_count": 90,
   "metadata": {},
   "outputs": [],
   "source": [
    "aaa.to_csv('result.csv', index=False)"
   ]
  },
  {
   "cell_type": "code",
   "execution_count": 91,
   "metadata": {},
   "outputs": [],
   "source": [
    "from PIL import Image\n",
    "from PIL import ImageOps"
   ]
  },
  {
   "cell_type": "code",
   "execution_count": 92,
   "metadata": {},
   "outputs": [],
   "source": [
    "def img_to_vector(number):\n",
    "    img = Image.open(number).convert('L')\n",
    "    img = ImageOps.invert(img)\n",
    "    data = np.array(list(img.getdata()))\n",
    "    data = data.reshape(1, 784)\n",
    "    data = pd.DataFrame(data)\n",
    "    data = data.applymap(lambda x: x/255)\n",
    "    return data"
   ]
  },
  {
   "cell_type": "code",
   "execution_count": 93,
   "metadata": {},
   "outputs": [],
   "source": [
    "y_keras=model.predict_classes(img_to_vector('9.png'))"
   ]
  },
  {
   "cell_type": "code",
   "execution_count": 94,
   "metadata": {},
   "outputs": [
    {
     "data": {
      "text/plain": [
       "array([3], dtype=int64)"
      ]
     },
     "execution_count": 94,
     "metadata": {},
     "output_type": "execute_result"
    }
   ],
   "source": [
    "y_keras"
   ]
  },
  {
   "cell_type": "code",
   "execution_count": 95,
   "metadata": {},
   "outputs": [],
   "source": [
    "y_pred = log_reg.predict(img_to_vector('9.png'))"
   ]
  },
  {
   "cell_type": "code",
   "execution_count": 96,
   "metadata": {},
   "outputs": [
    {
     "data": {
      "text/plain": [
       "array([3], dtype=int64)"
      ]
     },
     "execution_count": 96,
     "metadata": {},
     "output_type": "execute_result"
    }
   ],
   "source": [
    "y_pred"
   ]
  },
  {
   "cell_type": "code",
   "execution_count": 97,
   "metadata": {},
   "outputs": [],
   "source": [
    "a=list(histor.history.get('loss'))"
   ]
  },
  {
   "cell_type": "code",
   "execution_count": 98,
   "metadata": {},
   "outputs": [
    {
     "data": {
      "text/plain": [
       "[<matplotlib.lines.Line2D at 0x58058be48>]"
      ]
     },
     "execution_count": 98,
     "metadata": {},
     "output_type": "execute_result"
    },
    {
     "data": {
      "image/png": "[encoded data removed]",
      "text/plain": [
       "<matplotlib.figure.Figure at 0x580592fd0>"
      ]
     },
     "metadata": {},
     "output_type": "display_data"
    }
   ],
   "source": [
    "plt.plot(list(range(1,51)),a)"
   ]
  },
  {
   "cell_type": "code",
   "execution_count": null,
   "metadata": {},
   "outputs": [],
   "source": []
  },
  {
   "cell_type": "code",
   "execution_count": null,
   "metadata": {},
   "outputs": [],
   "source": []
  }
 ],
 "metadata": {
  "kernelspec": {
   "display_name": "Python 3",
   "language": "python",
   "name": "python3"
  },
  "language_info": {
   "codemirror_mode": {
    "name": "ipython",
    "version": 3
   },
   "file_extension": ".py",
   "mimetype": "text/x-python",
   "name": "python",
   "nbconvert_exporter": "python",
   "pygments_lexer": "ipython3",
   "version": "3.6.4"
  }
 },
 "nbformat": 4,
 "nbformat_minor": 2
}
